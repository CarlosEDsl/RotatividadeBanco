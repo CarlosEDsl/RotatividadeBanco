{
  "nbformat": 4,
  "nbformat_minor": 0,
  "metadata": {
    "colab": {
      "provenance": [],
      "authorship_tag": "ABX9TyN3Fcg3A44H8VfAdDADEqWQ"
    },
    "kernelspec": {
      "name": "python3",
      "display_name": "Python 3"
    },
    "language_info": {
      "name": "python"
    }
  },
  "cells": [
    {
      "cell_type": "code",
      "execution_count": 1,
      "metadata": {
        "colab": {
          "base_uri": "https://localhost:8080/"
        },
        "id": "hUa9W6r7BWab",
        "outputId": "d7a4fb2c-6625-4684-97e4-5400d6178722"
      },
      "outputs": [
        {
          "output_type": "stream",
          "name": "stdout",
          "text": [
            "Mounted at /content/drive\n"
          ]
        }
      ],
      "source": [
        "#Pegando a base do drive!\n",
        "\n",
        "from google.colab import drive\n",
        "drive.mount('/content/drive')\n",
        "\n",
        "filename = '/content/drive/MyDrive/06_rotatividade_clientes_bancários.csv'"
      ]
    },
    {
      "cell_type": "code",
      "source": [
        "#Commits\n",
        "\n",
        "!git config --global user.email \"marques.soares@aluno.ifsp.edu.br\"\n",
        "!git config --global user.name \"GuiIfsp\"\n",
        "\n",
        "!git push"
      ],
      "metadata": {
        "colab": {
          "base_uri": "https://localhost:8080/"
        },
        "id": "chfOouaCCswe",
        "outputId": "3fc1f018-ef2c-45ea-b18c-ca2a0b26095b"
      },
      "execution_count": 3,
      "outputs": [
        {
          "output_type": "stream",
          "name": "stdout",
          "text": [
            "fatal: not a git repository (or any of the parent directories): .git\n"
          ]
        }
      ]
    }
  ]
}